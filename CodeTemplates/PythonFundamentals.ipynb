{
 "cells": [
  {
   "cell_type": "code",
   "execution_count": 1,
   "metadata": {
    "id": "bIBt_FTuvB7O"
   },
   "outputs": [],
   "source": [
    "pirates = {\n",
    "    \"Pirate\":[\"Blackbeard\", \"Anne Bonny\", \"Calico Jack\", \"Cheung Po Tsai\", \"Grace O'Malley\", \"Mary Read\", \"Sayyida al Hurra\", \"Ching Shih\", \"Sir Francis Drake\", \"Jean Lafittte\"],\n",
    "    \"Sex\":[\"M\", \"F\", \"M\", \"M\", \"F\", \"F\", \"F\", \"F\", \"M\", \"M\"],\n",
    "    \"Age at Death\":[40, 24, 37, 39, 73, 36, 75, 69, 56, 46],\n",
    "    \"Height\":[6.4, 5.6, 5.6, 5.3, 5.0, 5.1, \"\", 5.3, 5.5, 6.2],\n",
    "    \"Skull and Crossbones\":[False, True, True, False, False, True, False, False, False, False]\n",
    "}"
   ]
  },
  {
   "cell_type": "code",
   "execution_count": 2,
   "metadata": {},
   "outputs": [
    {
     "name": "stdout",
     "output_type": "stream",
     "text": [
      "Blackbeard\n",
      "M\n",
      "40\n",
      "6.4\n",
      "False\n"
     ]
    }
   ],
   "source": [
    "print(pirates[\"Pirate\"][0])\n",
    "print(pirates[\"Sex\"][0])\n",
    "print(pirates[\"Age at Death\"][0])\n",
    "print(pirates[\"Height\"][0])\n",
    "print(pirates[\"Skull and Crossbones\"][0])\n",
    "\n"
   ]
  },
  {
   "cell_type": "code",
   "execution_count": 3,
   "metadata": {
    "scrolled": true
   },
   "outputs": [
    {
     "name": "stdout",
     "output_type": "stream",
     "text": [
      "False\n",
      "False\n",
      "False\n",
      "False\n",
      "True\n",
      "False\n",
      "False\n",
      "True\n",
      "True\n",
      "False\n"
     ]
    }
   ],
   "source": [
    "for i in reversed(pirates[\"Skull and Crossbones\"]):\n",
    "    print(i)"
   ]
  },
  {
   "cell_type": "code",
   "execution_count": 5,
   "metadata": {},
   "outputs": [
    {
     "name": "stdout",
     "output_type": "stream",
     "text": [
      "Blackbeard 40 False\n",
      "Anne Bonny 24 True\n",
      "Calico Jack 37 True\n",
      "Cheung Po Tsai 39 False\n",
      "Grace O'Malley 73 False\n",
      "Mary Read 36 True\n",
      "Sayyida al Hurra 75 False\n",
      "Ching Shih 69 False\n",
      "Sir Francis Drake 56 False\n",
      "Jean Lafittte 46 False\n"
     ]
    }
   ],
   "source": [
    "for i in range(0,10): # 0, 1, 2, 3, 4, 5, 6, 7, 8, 9\n",
    "    print(pirates[\"Pirate\"][i],pirates[\"Age at Death\"][i],pirates[\"Skull and Crossbones\"][i])"
   ]
  },
  {
   "cell_type": "code",
   "execution_count": 10,
   "metadata": {},
   "outputs": [
    {
     "name": "stdout",
     "output_type": "stream",
     "text": [
      "There are 3 flags featuring skull and crossbones.\n"
     ]
    }
   ],
   "source": [
    "skull = pirates[\"Skull and Crossbones\"]\n",
    "count = skull.count(True)\n",
    "\n",
    "print(\"There are \" + str(count) + \" flags featuring skull and crossbones.\")"
   ]
  },
  {
   "cell_type": "code",
   "execution_count": 11,
   "metadata": {},
   "outputs": [
    {
     "name": "stdout",
     "output_type": "stream",
     "text": [
      "On average, women live longer among the pirates.\n"
     ]
    }
   ],
   "source": [
    "ages = pirates[\"Age at Death\"]\n",
    "genders = pirates[\"Sex\"]\n",
    "\n",
    "men_ages = [age for age, gender in zip(ages, genders) if gender == \"M\"]\n",
    "women_ages = [age for age, gender in zip(ages, genders) if gender == \"F\"]\n",
    "\n",
    "average_men_age = sum(men_ages) / len(men_ages)\n",
    "average_women_age = sum(women_ages) / len(women_ages)\n",
    "\n",
    "if average_men_age > average_women_age:\n",
    "    print(\"On average, men live longer among the pirates.\")\n",
    "elif average_men_age < average_women_age:\n",
    "    print(\"On average, women live longer among the pirates.\")\n",
    "else:\n",
    "    print(\"On average, men and women have the same life expectancy among the pirates.\")"
   ]
  },
  {
   "cell_type": "code",
   "execution_count": 12,
   "metadata": {},
   "outputs": [
    {
     "name": "stdout",
     "output_type": "stream",
     "text": [
      "On average, women live longer among the pirates.\n"
     ]
    }
   ],
   "source": [
    "avg_age = {gender: sum(age for age, gen in zip(pirates[\"Age at Death\"], pirates[\"Sex\"]) if gen == gender) / pirates[\"Sex\"].count(gender) for gender in (\"M\", \"F\")}\n",
    "\n",
    "print(f\"On average, {'men' if avg_age['M'] > avg_age['F'] else 'women'} live longer among the pirates.\")"
   ]
  },
  {
   "cell_type": "code",
   "execution_count": 13,
   "metadata": {},
   "outputs": [
    {
     "name": "stdout",
     "output_type": "stream",
     "text": [
      "20.00% of pirates are 6 feet or taller.\n"
     ]
    }
   ],
   "source": [
    "heights = pirates[\"Height\"]\n",
    "tall_pirates = sum(1 for height in heights if isinstance(height, (int, float)) and height >= 6.0)\n",
    "\n",
    "percentage_tall = (tall_pirates / len(heights)) * 100\n",
    "\n",
    "print(f\"{percentage_tall:.2f}% of pirates are 6 feet or taller.\")"
   ]
  },
  {
   "cell_type": "code",
   "execution_count": null,
   "metadata": {},
   "outputs": [],
   "source": []
  }
 ],
 "metadata": {
  "colab": {
   "provenance": []
  },
  "kernelspec": {
   "display_name": "Python 3 (ipykernel)",
   "language": "python",
   "name": "python3"
  },
  "language_info": {
   "codemirror_mode": {
    "name": "ipython",
    "version": 3
   },
   "file_extension": ".py",
   "mimetype": "text/x-python",
   "name": "python",
   "nbconvert_exporter": "python",
   "pygments_lexer": "ipython3",
   "version": "3.9.13"
  }
 },
 "nbformat": 4,
 "nbformat_minor": 1
}
