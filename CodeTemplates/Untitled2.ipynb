{
 "cells": [
  {
   "cell_type": "code",
   "execution_count": 3,
   "id": "9173681d",
   "metadata": {},
   "outputs": [
    {
     "data": {
      "text/plain": [
       "{'success': True,\n",
       " 'data': {'memes': [{'id': '61579',\n",
       "    'name': 'One Does Not Simply',\n",
       "    'url': 'https://i.imgflip.com/1bij.jpg',\n",
       "    'width': 568,\n",
       "    'height': 335,\n",
       "    'box_count': 2},\n",
       "   {'id': '101470',\n",
       "    'name': 'Ancient Aliens',\n",
       "    'url': 'https://i.imgflip.com/26am.jpg',\n",
       "    'width': 500,\n",
       "    'height': 437,\n",
       "    'box_count': 2}]}}"
      ]
     },
     "execution_count": 3,
     "metadata": {},
     "output_type": "execute_result"
    }
   ],
   "source": [
    "{\n",
    "   \"success\": True,\n",
    "   \"data\": {\n",
    "      \"memes\": [\n",
    "         {\n",
    "            \"id\": \"61579\",\n",
    "            \"name\": \"One Does Not Simply\",\n",
    "            \"url\": \"https://i.imgflip.com/1bij.jpg\",\n",
    "            \"width\": 568,\n",
    "            \"height\": 335,\n",
    "            \"box_count\": 2\n",
    "         },\n",
    "         {\n",
    "            \"id\": \"101470\",\n",
    "            \"name\": \"Ancient Aliens\",\n",
    "            \"url\": \"https://i.imgflip.com/26am.jpg\",\n",
    "            \"width\": 500,\n",
    "            \"height\": 437,\n",
    "            \"box_count\": 2\n",
    "         }\n",
    "      ]\n",
    "   }\n",
    "}"
   ]
  },
  {
   "cell_type": "code",
   "execution_count": null,
   "id": "87e188ba",
   "metadata": {},
   "outputs": [],
   "source": []
  }
 ],
 "metadata": {
  "kernelspec": {
   "display_name": "Python 3 (ipykernel)",
   "language": "python",
   "name": "python3"
  },
  "language_info": {
   "codemirror_mode": {
    "name": "ipython",
    "version": 3
   },
   "file_extension": ".py",
   "mimetype": "text/x-python",
   "name": "python",
   "nbconvert_exporter": "python",
   "pygments_lexer": "ipython3",
   "version": "3.9.13"
  }
 },
 "nbformat": 4,
 "nbformat_minor": 5
}
