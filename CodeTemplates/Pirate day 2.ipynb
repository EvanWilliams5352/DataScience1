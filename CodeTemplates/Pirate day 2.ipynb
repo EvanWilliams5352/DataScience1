{
 "cells": [
  {
   "cell_type": "code",
   "execution_count": 6,
   "id": "013b1cfe",
   "metadata": {},
   "outputs": [],
   "source": [
    "PirateByCol = {\n",
    "    \"Name\":[\"Edward Teach\", \"Anne Bonny\", \"John Rackham\",\"Cheung Po Tsai\",\n",
    "            \"Grace O'Malley\", \"Mary Read\", \"Sayyida al Hurra\",\n",
    "            \"Zheng Yi Sao\", \"Francis Drake\", \"Jean Lafitte\"],\n",
    "    \"Years Active\":[[1716,1718],[1718,1720],[1718,1720],\n",
    "                [1798,1810],[1564,1595],[1708,1721],[1515,1545],\n",
    "                [1801,1810],[1563,1596],[1810,1823]],\n",
    "    \"Sailed\":[\"Caribbean\", \"Caribbean\",\"Caribbean\",\"South China Sea\",\n",
    "              \"British Isles\",\"Caribbean\",\"Mediterranean\",\"South China Sea\",\n",
    "             \"Caribbean\", \"Gulf of Mexico\"],\n",
    "    \"Alias\":[\"Blackbeard\",\"\",\"Calico Jack\", \"The Kid\",\"Queen of Ireland\",\n",
    "             \"Mark\", \"Hakimat Titwan\",\"Ching shih\", \n",
    "             \"Sir Francis Drake\",\"Terror of the Gulf\"]\n",
    "}\n",
    "\n",
    "PirateByRow = {\n",
    "    \"Name\":[\"Years Active\", \"Sailed\", \"Alias\"],\n",
    "    \"Edward Teach\":[[1716,1718], \"Caribbean\", \"Blackbeard\"],\n",
    "    \"Anne Bonny\": [[1718,1720],\"Caribbean\",\"\"],\n",
    "    \"John Rackham\":[[1718,1720],\"Caribbean\",\"Calico Jake\"],\n",
    "    \"Cheung Po Tsai\":[[1798,1810],\"South China Sea\",\"The Kid\"],\n",
    "    \"Grace O'Malley\":[[1564,1595],\"British Isles\",\"Queen of Ireland\"],\n",
    "    \"Mary Read\":[[1708,1721],\"Caribbean\",\"Mark\"],\n",
    "    \"Sayyida al Hurra\":[[1515,1545],\"Mediterranean\",\"Hakimat Titwan\"],\n",
    "    \"Zheng Yi Sao\":[[1801,1810],\"South China\",\"Ching shih\"],\n",
    "    \"Francis Drake\":[[1563,1596],\"Caribbean\",\"Sir Francis Drake\"],\n",
    "    \"Jean Lafitte\":[[1810,1823],\"Gulf of Mexico\",\"Terror of the Gulf\"]\n",
    "}"
   ]
  },
  {
   "cell_type": "code",
   "execution_count": 7,
   "id": "639b00a8",
   "metadata": {
    "scrolled": true
   },
   "outputs": [
    {
     "name": "stdout",
     "output_type": "stream",
     "text": [
      "The number of pirates who sailed the Caribbean during the 18th century is 4.\n"
     ]
    }
   ],
   "source": [
    "caribbean_pirates_count = 0\n",
    "for sailed, years_active in zip(PirateByCol[\"Sailed\"], PirateByCol[\"Years Active\"]):\n",
    "    if \"Caribbean\" in sailed and years_active[0] >= 1700 and years_active[1] <= 1799:\n",
    "        caribbean_pirates_count += 1\n",
    "\n",
    "print(f\"The number of pirates who sailed the Caribbean during the 18th century is {caribbean_pirates_count}.\")"
   ]
  },
  {
   "cell_type": "code",
   "execution_count": 10,
   "id": "0b1cd558",
   "metadata": {},
   "outputs": [
    {
     "name": "stdout",
     "output_type": "stream",
     "text": [
      "The pirate with the longest career is Francis Drake with a career duration of 33 years.\n"
     ]
    }
   ],
   "source": [
    "career_durations = {}\n",
    "for pirate_name, years_active in zip(PirateByCol[\"Name\"], PirateByCol[\"Years Active\"]):\n",
    "    start_year, end_year = years_active\n",
    "    career_duration = end_year - start_year\n",
    "    career_durations[pirate_name] = career_duration\n",
    "\n",
    "longest_career_pirate = max(career_durations, key=career_durations.get)\n",
    "longest_career_duration = career_durations[longest_career_pirate]\n",
    "\n",
    "print(f\"The pirate with the longest career is {longest_career_pirate} \"\n",
    "      f\"with a career duration of {longest_career_duration} years.\")"
   ]
  },
  {
   "cell_type": "code",
   "execution_count": 11,
   "id": "f378e03a",
   "metadata": {},
   "outputs": [
    {
     "name": "stdout",
     "output_type": "stream",
     "text": [
      "The average number of years a pirate was active is 14.70 years.\n"
     ]
    }
   ],
   "source": [
    "total_career_duration = 0\n",
    "for years_active in PirateByCol[\"Years Active\"]:\n",
    "    start_year, end_year = years_active\n",
    "    career_duration = end_year - start_year \n",
    "    total_career_duration += career_duration\n",
    "    \n",
    "total_pirates = len(PirateByCol[\"Years Active\"])\n",
    "average_career_duration = total_career_duration / total_pirates\n",
    "\n",
    "print(f\"The average number of years a pirate was active is {average_career_duration:.2f} years.\")"
   ]
  },
  {
   "cell_type": "code",
   "execution_count": null,
   "id": "1647751d",
   "metadata": {},
   "outputs": [],
   "source": [
    "pirate_info = {\n",
    "    \"Sex\": [\"M\", \"F\", \"M\", \"M\", \"F\", \"F\", \"F\", \"F\", \"M\", \"M\"],\n",
    "    \"Age at Death\": [40, 24, 37, 39, 73, 36, 75, 69, 56, 46],\n",
    "    \"Height\": [6.4, 5.6, 5.6, 5.3, 5.0, 5.1, \"\", 5.3, 5.5, 6.2],\n",
    "    \"Skull and Crossbones\": [False, True, True, False, False, True, False, False, False, False]\n",
    "    \"Name\": [\"Edward Teach\", \"Anne Bonny\", \"John Rackham\", \"Cheung Po Tsai\",\n",
    "             \"Grace O'Malley\", \"Mary Read\", \"Sayyida al Hurra\",\n",
    "             \"Zheng Yi Sao\", \"Jean Lafitte\"],\n",
    "    \"Years Active\": [[1716, 1718], [1718, 1720], [1718, 1720],\n",
    "                     [1798, 1810], [1564, 1595], [1708, 1721], [1515, 1545],\n",
    "                     [1801, 1810], [1810, 1823]],\n",
    "    \"Sailed\": [\"Caribbean\", \"Caribbean\", \"Caribbean\", \"South China Sea\",\n",
    "               \"British Isles\", \"Caribbean\", \"Mediterranean\", \"South China Sea\",\n",
    "               \"Gulf of Mexico\"],\n",
    "    \"Alias\": [\"Blackbeard\", \"\", \"Calico Jack\", \"The Kid\", \"Queen of Ireland\",\n",
    "              \"Mark\", \"Hakimat Titwan\", \"Ching shih\", \"Terror of the Gulf\"]\n",
    "}"
   ]
  },
  {
   "cell_type": "code",
   "execution_count": 12,
   "id": "eae8f217",
   "metadata": {},
   "outputs": [
    {
     "name": "stdout",
     "output_type": "stream",
     "text": [
      "{'Sex': ['M', 'F', 'M', 'M', 'F', 'F', 'F', 'F', 'M', 'M'], 'Age at Death': [40, 24, 37, 39, 73, 36, 75, 69, 56, 46], 'Height': [6.4, 5.6, 5.6, 5.3, 5.0, 5.1, '', 5.3, 5.5, 6.2], 'Skull and Crossbones': [False, True, True, False, False, True, False, False, False, False], 'Name': ['Edward Teach', 'Anne Bonny', 'John Rackham', 'Cheung Po Tsai', \"Grace O'Malley\", 'Mary Read', 'Sayyida al Hurra', 'Zheng Yi Sao', 'Jean Lafitte'], 'Years Active': [[1716, 1718], [1718, 1720], [1718, 1720], [1798, 1810], [1564, 1595], [1708, 1721], [1515, 1545], [1801, 1810], [1810, 1823]], 'Sailed': ['Caribbean', 'Caribbean', 'Caribbean', 'South China Sea', 'British Isles', 'Caribbean', 'Mediterranean', 'South China Sea', 'Gulf of Mexico'], 'Alias': ['Blackbeard', '', 'Calico Jack', 'The Kid', 'Queen of Ireland', 'Mark', 'Hakimat Titwan', 'Ching shih', 'Terror of the Gulf']}\n"
     ]
    }
   ],
   "source": [
    "pirate_info = {\n",
    "    \"Sex\": [\"M\", \"F\", \"M\", \"M\", \"F\", \"F\", \"F\", \"F\", \"M\", \"M\"],\n",
    "    \"Age at Death\": [40, 24, 37, 39, 73, 36, 75, 69, 56, 46],\n",
    "    \"Height\": [6.4, 5.6, 5.6, 5.3, 5.0, 5.1, \"\", 5.3, 5.5, 6.2],\n",
    "    \"Skull and Crossbones\": [False, True, True, False, False, True, False, False, False, False]\n",
    "}\n",
    "\n",
    "pirate = {\n",
    "    \"Name\": [\"Edward Teach\", \"Anne Bonny\", \"John Rackham\", \"Cheung Po Tsai\",\n",
    "             \"Grace O'Malley\", \"Mary Read\", \"Sayyida al Hurra\",\n",
    "             \"Zheng Yi Sao\", \"Jean Lafitte\"],\n",
    "    \"Years Active\": [[1716, 1718], [1718, 1720], [1718, 1720],\n",
    "                     [1798, 1810], [1564, 1595], [1708, 1721], [1515, 1545],\n",
    "                     [1801, 1810], [1810, 1823]],\n",
    "    \"Sailed\": [\"Caribbean\", \"Caribbean\", \"Caribbean\", \"South China Sea\",\n",
    "               \"British Isles\", \"Caribbean\", \"Mediterranean\", \"South China Sea\",\n",
    "               \"Gulf of Mexico\"],\n",
    "    \"Alias\": [\"Blackbeard\", \"\", \"Calico Jack\", \"The Kid\", \"Queen of Ireland\",\n",
    "              \"Mark\", \"Hakimat Titwan\", \"Ching shih\", \"Terror of the Gulf\"]\n",
    "}\n",
    "\n",
    "merged_pirate_data = {}\n",
    "\n",
    "for key in pirate_info:\n",
    "    merged_pirate_data[key] = pirate_info[key]\n",
    "\n",
    "for key in pirate:\n",
    "    merged_pirate_data[key] = pirate[key]\n",
    "\n",
    "print(merged_pirate_data)"
   ]
  },
  {
   "cell_type": "code",
   "execution_count": null,
   "id": "88018054",
   "metadata": {},
   "outputs": [],
   "source": []
  }
 ],
 "metadata": {
  "kernelspec": {
   "display_name": "Python 3 (ipykernel)",
   "language": "python",
   "name": "python3"
  },
  "language_info": {
   "codemirror_mode": {
    "name": "ipython",
    "version": 3
   },
   "file_extension": ".py",
   "mimetype": "text/x-python",
   "name": "python",
   "nbconvert_exporter": "python",
   "pygments_lexer": "ipython3",
   "version": "3.9.13"
  }
 },
 "nbformat": 4,
 "nbformat_minor": 5
}
